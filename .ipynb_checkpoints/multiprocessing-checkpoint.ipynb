{
 "cells": [
  {
   "cell_type": "markdown",
   "metadata": {},
   "source": [
    "# MultiprocessingTutorial"
   ]
  },
  {
   "cell_type": "raw",
   "metadata": {},
   "source": [
    "Nama : Fernando Julian\n",
    "NIM : 09011381924087\n",
    "Kelas : SK3U"
   ]
  },
  {
   "cell_type": "markdown",
   "metadata": {},
   "source": [
    "# Apa itu Multiprocessing ?"
   ]
  },
  {
   "cell_type": "markdown",
   "metadata": {},
   "source": [
    "Multiprocessing adalah kemampuan suatu sistem untuk mendukung lebih dari satu prosesor berjalan pada saat yang bersamaan. Aplikasi dalam sistem multiprocessing dipecah menjadi bagian-bagian kecil yang berjalan secara independen. Sistem Operasi mengalokasikan threads ke prosesor untuk meningkatkan performa sistem."
   ]
  },
  {
   "cell_type": "markdown",
   "metadata": {},
   "source": [
    "# Kenapa Multiprocessing ?"
   ]
  },
  {
   "cell_type": "markdown",
   "metadata": {},
   "source": [
    "Bayangkan jika komputer berjalan dengan 1 prosesor. Jika komputer mendapatkan intruksi yang banyak secara bersamaan, ini akan menghambat performa dari komputer itu sendiri, karena prosesor hanya dapat menjalankan 1 intruksi saja.\n",
    "Situasi seperti ini sama saja seperti seorang chef yang bekerja didapur sendiri. Dia harus melakukan tugas seperti memanggang, mengaduk adonan, menggoreng dsb"
   ]
  }
 ],
 "metadata": {
  "kernelspec": {
   "display_name": "Python 3",
   "language": "python",
   "name": "python3"
  },
  "language_info": {
   "codemirror_mode": {
    "name": "ipython",
    "version": 3
   },
   "file_extension": ".py",
   "mimetype": "text/x-python",
   "name": "python",
   "nbconvert_exporter": "python",
   "pygments_lexer": "ipython3",
   "version": "3.8.5"
  }
 },
 "nbformat": 4,
 "nbformat_minor": 4
}
